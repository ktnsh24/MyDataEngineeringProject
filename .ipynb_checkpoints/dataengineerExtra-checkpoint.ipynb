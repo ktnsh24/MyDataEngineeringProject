{
 "cells": [
  {
   "cell_type": "code",
   "execution_count": null,
   "metadata": {},
   "outputs": [],
   "source": [
    "import json\n",
    "import boto3\n",
    "#json.loads take a string as input and returns a dictionary as output.\n",
    "#json.dumps take a dictionary as input and returns a string as output."
   ]
  },
  {
   "cell_type": "code",
   "execution_count": null,
   "metadata": {},
   "outputs": [],
   "source": [
    "dict_record = {'event_id': 22, 'download_date': '2021-03-28', 'user_id': 271, 'app': 'OE TRACKER CE Attendance App', 'category': 'MEDICAL', 'rating': 3.4, 'reviews': 16, 'app_size': 7800000.0, 'installs': 5000, 'app_type': 'Free', 'price': 0.0, 'content_rating': 'Everyone', 'genres': 'Medical', 'last_updated': '2018-03-20', 'current_version': '1.3.0', 'android_version': '4.4 and up', 'app_id': 7174, 'user_details': '14'}\n"
   ]
  },
  {
   "cell_type": "code",
   "execution_count": null,
   "metadata": {},
   "outputs": [],
   "source": [
    "A = dict_record['category']\n",
    "B = dict_record['user_details']\n",
    "print(A,B)"
   ]
  },
  {
   "cell_type": "code",
   "execution_count": null,
   "metadata": {},
   "outputs": [],
   "source": [
    "inventory_key = dict()\n",
    "#create export dictionary\n",
    "ex_dynamoRecord = dict()"
   ]
  },
  {
   "cell_type": "code",
   "execution_count": null,
   "metadata": {},
   "outputs": [],
   "source": [
    "inventory_key.update({'InvoiceNo': {\"N\": str(dict_record['InvoiceNo'])}})\n",
    "inventory_key.update({'CustomerID': {\"N\": str(dict_record['CustomerID'])}})\n",
    "print(inventory_key)"
   ]
  },
  {
   "cell_type": "code",
   "execution_count": null,
   "metadata": {},
   "outputs": [],
   "source": [
    "stock_dict = dict(dict_record)\n",
    "print(stock_dict)"
   ]
  },
  {
   "cell_type": "code",
   "execution_count": null,
   "metadata": {},
   "outputs": [],
   "source": [
    "stock_dict.pop('InvoiceNo',None)\n",
    "stock_dict.pop('StockCode',None)\n",
    "stock_dict.pop('Quantity',None)\n",
    "print(stock_dict)"
   ]
  },
  {
   "cell_type": "code",
   "execution_count": null,
   "metadata": {},
   "outputs": [],
   "source": [
    "stock_json = json.dumps(stock_dict)\n",
    "print(stock_json)"
   ]
  },
  {
   "cell_type": "code",
   "execution_count": null,
   "metadata": {},
   "outputs": [],
   "source": [
    "#add the stock json to the column with the name of the stock number\n",
    "ex_dynamoRecord.update({str(dict_record['StockCode']): {'Value':{\"S\":stock_json},\"Action\":\"PUT\"}})\n",
    "ex_dynamoRecord.update({str(dict_record['Quantity']): {'Value':{\"S\":stock_json},\"Action\":\"PUT\"}})\n",
    "print(ex_dynamoRecord)"
   ]
  },
  {
   "cell_type": "code",
   "execution_count": null,
   "metadata": {},
   "outputs": [],
   "source": [
    "dictionary = daterange.set_index('user_id').T.to_dict('list')\n",
    "np.save('my_file.npy', dictionary) "
   ]
  },
  {
   "cell_type": "code",
   "execution_count": null,
   "metadata": {},
   "outputs": [],
   "source": [
    "#df1 = df[0:5000]\n",
    "#df2 = df[df.duplicated(['user_id','app_id'], keep=False)]\n",
    "#df2.to_json (r'Export_DataFrame.json')\n",
    "# for i in df2.index:\n",
    "#     # convert the row to json\n",
    "#     export = df2.loc[i].to_json()\n",
    "#     # print the returncode\n",
    "#     print(export)\n",
    "#df2"
   ]
  },
  {
   "cell_type": "code",
   "execution_count": null,
   "metadata": {},
   "outputs": [],
   "source": [
    "# nan_rows = df[df['rating'].isnull()]\n",
    "# nan_rows"
   ]
  },
  {
   "cell_type": "code",
   "execution_count": null,
   "metadata": {},
   "outputs": [],
   "source": [
    "#df1.to_csv('temp_data.csv', index =False)"
   ]
  },
  {
   "cell_type": "markdown",
   "metadata": {},
   "source": [
    "# Data Visualization"
   ]
  },
  {
   "cell_type": "code",
   "execution_count": null,
   "metadata": {},
   "outputs": [],
   "source": [
    "mask = (users_app_data['download_date'] == '2021-04-12')\n",
    "df = users_app_data.loc[mask]\n",
    "df.info()"
   ]
  },
  {
   "cell_type": "code",
   "execution_count": null,
   "metadata": {},
   "outputs": [],
   "source": [
    "#users_app_data = users_app_data[users_app_data[\"download_date\"].isin(pd.date_range('2020-01-01', '2020-02-01'))]\n",
    "startdate = str(users_app_data['download_date'].iloc[0])\n",
    "enddate = str(users_app_data['download_date'].iloc[500])\n",
    "users_app_data = users_app_data[users_app_data[\"download_date\"].isin(pd.date_range(startdate,enddate))]\n",
    "#data = [users_app_data.loc[users_app_data['download_date']==i] for i in users_app_data.download_date.unique()]\n",
    "#data[0:100]"
   ]
  },
  {
   "cell_type": "code",
   "execution_count": null,
   "metadata": {},
   "outputs": [],
   "source": [
    "#daterange.to_csv('temp_data.csv', index =False)"
   ]
  },
  {
   "cell_type": "code",
   "execution_count": null,
   "metadata": {},
   "outputs": [],
   "source": [
    "Dup = daterange[daterange.duplicated(['user_id'], keep=False)]\n",
    "Dup"
   ]
  },
  {
   "cell_type": "code",
   "execution_count": null,
   "metadata": {},
   "outputs": [],
   "source": [
    "print(daterange.shape)"
   ]
  },
  {
   "cell_type": "code",
   "execution_count": null,
   "metadata": {},
   "outputs": [],
   "source": [
    "daterange.groupby('category').count().plot(y='user_id', kind='bar')"
   ]
  },
  {
   "cell_type": "code",
   "execution_count": null,
   "metadata": {},
   "outputs": [],
   "source": [
    "daterange.groupby('user_id').sum().plot(y='time_spent_min', kind='bar')"
   ]
  },
  {
   "cell_type": "code",
   "execution_count": null,
   "metadata": {},
   "outputs": [],
   "source": [
    "# most Most popular category\n",
    "plt.figure(figsize=(40,10))\n",
    "df['category'].value_counts().plot(kind='pie')\n",
    "plt.show()\n",
    "plt.figure(figsize=(40,30))\n",
    "df['category'].value_counts().plot(kind='bar')\n",
    "plt.xlabel('category')\n",
    "plt.ylabel('freq.')\n",
    "plt.grid()\n",
    "plt.show()"
   ]
  }
 ],
 "metadata": {
  "kernelspec": {
   "display_name": "Python 3",
   "language": "python",
   "name": "python3"
  },
  "language_info": {
   "codemirror_mode": {
    "name": "ipython",
    "version": 3
   },
   "file_extension": ".py",
   "mimetype": "text/x-python",
   "name": "python",
   "nbconvert_exporter": "python",
   "pygments_lexer": "ipython3",
   "version": "3.8.5"
  }
 },
 "nbformat": 4,
 "nbformat_minor": 4
}
